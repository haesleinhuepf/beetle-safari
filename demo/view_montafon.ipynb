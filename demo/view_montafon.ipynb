{
 "cells": [
  {
   "cell_type": "code",
   "execution_count": 1,
   "id": "00675b8b-3760-46a8-926d-3a737c98c63e",
   "metadata": {},
   "outputs": [],
   "source": [
    "import napari\n",
    "import pandas as pd\n",
    "from skimage.io import imread"
   ]
  },
  {
   "cell_type": "code",
   "execution_count": 2,
   "id": "3e1fe3f3-3ec9-4c63-a692-142eceff601b",
   "metadata": {},
   "outputs": [],
   "source": [
    "dataset = \"montafon\""
   ]
  },
  {
   "cell_type": "code",
   "execution_count": 3,
   "id": "898e6d7d-5e9b-4751-8149-69af5365b3da",
   "metadata": {},
   "outputs": [
    {
     "name": "stderr",
     "output_type": "stream",
     "text": [
      "Public access to Window.qt_viewer is deprecated and will be removed in\n",
      "v0.5.0. It is considered an \"implementation detail\" of the napari\n",
      "application, not part of the napari viewer model. If your use case\n",
      "requires access to qt_viewer, please open an issue to discuss.\n"
     ]
    }
   ],
   "source": [
    "viewer = napari.Viewer()"
   ]
  },
  {
   "cell_type": "code",
   "execution_count": 4,
   "id": "b49267a5-79fd-4bae-870d-38ed171a9403",
   "metadata": {},
   "outputs": [
    {
     "data": {
      "text/plain": [
       "(27, 213, 706, 353)"
      ]
     },
     "execution_count": 4,
     "metadata": {},
     "output_type": "execute_result"
    }
   ],
   "source": [
    "image = imread(f\"C:/structure/data/{dataset}_scaled.tif\")\n",
    "image.shape"
   ]
  },
  {
   "cell_type": "code",
   "execution_count": 5,
   "id": "b77ad56b-fe31-4036-87eb-8ed65099e3aa",
   "metadata": {},
   "outputs": [
    {
     "data": {
      "text/plain": [
       "(27, 213, 706, 353)"
      ]
     },
     "execution_count": 5,
     "metadata": {},
     "output_type": "execute_result"
    }
   ],
   "source": [
    "labels = imread(f\"C:/structure/data/{dataset}_labels.tif\")\n",
    "labels.shape"
   ]
  },
  {
   "cell_type": "code",
   "execution_count": 6,
   "id": "bd0968ad-9f5f-4c9b-9c5c-dcfdea6e3a08",
   "metadata": {},
   "outputs": [
    {
     "data": {
      "text/plain": [
       "<Labels layer 'labels' at 0x15c7cebc850>"
      ]
     },
     "execution_count": 6,
     "metadata": {},
     "output_type": "execute_result"
    },
    {
     "name": "stderr",
     "output_type": "stream",
     "text": [
      "INFO:OpenGL.acceleratesupport:No OpenGL_accelerate module loaded: No module named 'OpenGL_accelerate'\n"
     ]
    },
    {
     "name": "stdout",
     "output_type": "stream",
     "text": [
      "Measurement running\n",
      "Region properties source: Measure now (with neighborhood data)\n"
     ]
    },
    {
     "name": "stderr",
     "output_type": "stream",
     "text": [
      "\n",
      "  0%|                                                                                           | 0/27 [00:00<?, ?it/s]\u001b[A\n",
      "  4%|███                                                                                | 1/27 [00:05<02:30,  5.79s/it]\u001b[A\n",
      "  7%|██████▏                                                                            | 2/27 [00:11<02:20,  5.61s/it]\u001b[A\n",
      " 11%|█████████▏                                                                         | 3/27 [00:16<02:06,  5.29s/it]\u001b[A\n",
      " 15%|████████████▎                                                                      | 4/27 [00:20<01:54,  4.99s/it]\u001b[A\n",
      " 19%|███████████████▎                                                                   | 5/27 [00:26<01:52,  5.13s/it]\u001b[A\n",
      " 22%|██████████████████▍                                                                | 6/27 [00:31<01:50,  5.28s/it]\u001b[A\n",
      " 26%|█████████████████████▌                                                             | 7/27 [00:36<01:45,  5.28s/it]\u001b[A\n",
      " 30%|████████████████████████▌                                                          | 8/27 [00:41<01:36,  5.09s/it]\u001b[A\n",
      " 33%|███████████████████████████▋                                                       | 9/27 [00:51<01:56,  6.45s/it]\u001b[A\n",
      " 37%|██████████████████████████████▎                                                   | 10/27 [01:15<03:23, 11.98s/it]\u001b[A\n",
      " 41%|█████████████████████████████████▍                                                | 11/27 [01:38<04:07, 15.49s/it]\u001b[A\n",
      " 44%|████████████████████████████████████▍                                             | 12/27 [01:55<03:59, 15.98s/it]\u001b[A\n",
      " 48%|███████████████████████████████████████▍                                          | 13/27 [02:13<03:49, 16.36s/it]\u001b[A\n",
      " 52%|██████████████████████████████████████████▌                                       | 14/27 [02:31<03:41, 17.04s/it]\u001b[A\n",
      " 56%|█████████████████████████████████████████████▌                                    | 15/27 [02:54<03:45, 18.77s/it]\u001b[A\n",
      " 59%|████████████████████████████████████████████████▌                                 | 16/27 [03:19<03:47, 20.71s/it]\u001b[A\n",
      " 63%|███████████████████████████████████████████████████▋                              | 17/27 [03:48<03:50, 23.06s/it]\u001b[A\n",
      " 67%|██████████████████████████████████████████████████████▋                           | 18/27 [04:10<03:26, 22.92s/it]\u001b[A\n",
      " 70%|█████████████████████████████████████████████████████████▋                        | 19/27 [04:25<02:43, 20.44s/it]\u001b[A\n",
      " 74%|████████████████████████████████████████████████████████████▋                     | 20/27 [04:36<02:02, 17.52s/it]\u001b[A\n",
      " 78%|███████████████████████████████████████████████████████████████▊                  | 21/27 [04:59<01:54, 19.11s/it]\u001b[A\n",
      " 81%|██████████████████████████████████████████████████████████████████▊               | 22/27 [06:55<04:01, 48.20s/it]\u001b[A\n",
      " 85%|█████████████████████████████████████████████████████████████████████▊            | 23/27 [09:45<05:39, 84.90s/it]\u001b[A\n",
      " 89%|████████████████████████████████████████████████████████████████████████         | 24/27 [12:11<05:09, 103.22s/it]\u001b[A\n",
      " 93%|███████████████████████████████████████████████████████████████████████████      | 25/27 [15:19<04:17, 128.58s/it]\u001b[A\n",
      " 96%|██████████████████████████████████████████████████████████████████████████████   | 26/27 [17:26<02:08, 128.26s/it]\u001b[A\n",
      "100%|██████████████████████████████████████████████████████████████████████████████████| 27/27 [18:11<00:00, 40.43s/it]\u001b[A\n",
      "Status bar display of label properties disabled because labels/indices exist multiple times (napari-skimage-regionprops)\n"
     ]
    },
    {
     "name": "stdout",
     "output_type": "stream",
     "text": [
      "Reg props measured for each timepoint.\n",
      "Measured: ['label', 'centroid_x', 'centroid_y', 'centroid_z', 'area', 'mean_distance_to_centroid', 'max_distance_to_centroid', 'mean_max_distance_to_centroid_ratio', 'min_intensity', 'max_intensity', 'sum_intensity', 'mean_intensity', 'standard_deviation_intensity', 'avg distance of 2 closest points', 'avg distance of 3 closest points', 'avg distance of 4 closest points', 'touching neighbor count', 'frame']\n",
      "Selected labels layer: labels\n",
      "Selected measurements: ['centroid_x', 'centroid_y', 'centroid_z', 'area', 'mean_distance_to_centroid', 'max_distance_to_centroid', 'mean_max_distance_to_centroid_ratio', 'min_intensity', 'max_intensity', 'sum_intensity', 'mean_intensity', 'standard_deviation_intensity', 'avg distance of 2 closest points', 'avg distance of 3 closest points', 'avg distance of 4 closest points', 'touching neighbor count', 'frame']\n",
      "UMAP(random_state=133, verbose=True)\n",
      "Fri Apr 29 09:06:46 2022 Construct fuzzy simplicial set\n",
      "Fri Apr 29 09:06:46 2022 Finding Nearest Neighbors\n",
      "Fri Apr 29 09:06:46 2022 Building RP forest with 22 trees\n",
      "Fri Apr 29 09:06:47 2022 NN descent for 17 iterations\n",
      "\t 1  /  17\n",
      "\t 2  /  17\n",
      "\t 3  /  17\n",
      "\tStopping threshold met -- exiting after 3 iterations\n",
      "Fri Apr 29 09:06:55 2022 Finished Nearest Neighbor Search\n",
      "Fri Apr 29 09:06:59 2022 Construct embedding\n"
     ]
    },
    {
     "data": {
      "application/vnd.jupyter.widget-view+json": {
       "model_id": "68b2ba9507184bf7b9706b1cf09b98b7",
       "version_major": 2,
       "version_minor": 0
      },
      "text/plain": [
       "Dimensionality reduction progress:   0%|            0/200 [00:00]"
      ]
     },
     "metadata": {},
     "output_type": "display_data"
    },
    {
     "name": "stdout",
     "output_type": "stream",
     "text": [
      "Fri Apr 29 09:08:12 2022 Finished embedding\n",
      "Dimensionality reduction finished\n"
     ]
    },
    {
     "name": "stderr",
     "output_type": "stream",
     "text": [
      "Non-empty compiler output encountered. Set the environment variable PYOPENCL_COMPILER_OUTPUT=1 to see more.\n"
     ]
    }
   ],
   "source": [
    "viewer.add_image(image)\n",
    "viewer.add_labels(labels)"
   ]
  },
  {
   "cell_type": "code",
   "execution_count": null,
   "id": "d241fd12-f996-4e39-9d39-fd834ed54ecf",
   "metadata": {},
   "outputs": [],
   "source": []
  }
 ],
 "metadata": {
  "kernelspec": {
   "display_name": "Python 3 (ipykernel)",
   "language": "python",
   "name": "python3"
  },
  "language_info": {
   "codemirror_mode": {
    "name": "ipython",
    "version": 3
   },
   "file_extension": ".py",
   "mimetype": "text/x-python",
   "name": "python",
   "nbconvert_exporter": "python",
   "pygments_lexer": "ipython3",
   "version": "3.9.10"
  }
 },
 "nbformat": 4,
 "nbformat_minor": 5
}
