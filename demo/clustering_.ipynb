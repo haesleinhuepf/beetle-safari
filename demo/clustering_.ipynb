{
 "cells": [
  {
   "cell_type": "code",
   "execution_count": 2,
   "metadata": {},
   "outputs": [
    {
     "ename": "ModuleNotFoundError",
     "evalue": "No module named 'beetlesafari'",
     "output_type": "error",
     "traceback": [
      "\u001b[1;31m---------------------------------------------------------------------------\u001b[0m",
      "\u001b[1;31mModuleNotFoundError\u001b[0m                       Traceback (most recent call last)",
      "\u001b[1;32m<ipython-input-2-5770e421316b>\u001b[0m in \u001b[0;36m<module>\u001b[1;34m\u001b[0m\n\u001b[0;32m      1\u001b[0m \u001b[1;31m# Initialize GPU\u001b[0m\u001b[1;33m\u001b[0m\u001b[1;33m\u001b[0m\u001b[1;33m\u001b[0m\u001b[0m\n\u001b[0;32m      2\u001b[0m \u001b[1;32mimport\u001b[0m \u001b[0mpyclesperanto_prototype\u001b[0m \u001b[1;32mas\u001b[0m \u001b[0mcle\u001b[0m\u001b[1;33m\u001b[0m\u001b[1;33m\u001b[0m\u001b[0m\n\u001b[1;32m----> 3\u001b[1;33m \u001b[1;32mimport\u001b[0m \u001b[0mbeetlesafari\u001b[0m \u001b[1;32mas\u001b[0m \u001b[0mbs\u001b[0m\u001b[1;33m\u001b[0m\u001b[1;33m\u001b[0m\u001b[0m\n\u001b[0m\u001b[0;32m      4\u001b[0m \u001b[1;32mimport\u001b[0m \u001b[0mnumpy\u001b[0m \u001b[1;32mas\u001b[0m \u001b[0mnp\u001b[0m\u001b[1;33m\u001b[0m\u001b[1;33m\u001b[0m\u001b[0m\n\u001b[0;32m      5\u001b[0m \u001b[1;33m\u001b[0m\u001b[0m\n",
      "\u001b[1;31mModuleNotFoundError\u001b[0m: No module named 'beetlesafari'"
     ]
    }
   ],
   "source": [
    "# Initialize GPU\n",
    "import pyclesperanto_prototype as cle\n",
    "import beetlesafari as bs\n",
    "import numpy as np\n",
    "\n",
    "cle.select_device('RTX')"
   ]
  },
  {
   "cell_type": "code",
   "execution_count": null,
   "metadata": {},
   "outputs": [],
   "source": [
    "%gui qt"
   ]
  },
  {
   "cell_type": "code",
   "execution_count": null,
   "metadata": {},
   "outputs": [],
   "source": [
    "# convenience methods\n",
    "def show(image, labels=False, title=None, use_napari=False):\n",
    "    if len(image.shape) == 3:\n",
    "        # print(image.shape)\n",
    "        max_projection = cle.create([image.shape[1], image.shape[2]])\n",
    "        cle.maximum_z_projection(image, max_projection)\n",
    "        cle.imshow(cle.transpose_xy(max_projection), labels=labels, min_display_intensity=0)\n",
    "    else:\n",
    "        cle.imshow(cle.transpose_xy(image), labels=labels, min_display_intensity=0)    \n",
    "    \n",
    "    if use_napari:\n",
    "        if labels:\n",
    "            show.viewer.add_labels(cle.pull_zyx(image), name=title)\n",
    "        else:\n",
    "            show.viewer.add_image(cle.pull_zyx(image), name=title)\n",
    "\n",
    "import napari\n",
    "\n",
    "# create Qt GUI context\n",
    "napari.gui_qt()        \n",
    "show.viewer = napari.Viewer()\n",
    "\n",
    "from napari_pyclesperanto_assistant import napari_plugin\n",
    "napari_plugin(show.viewer)"
   ]
  },
  {
   "cell_type": "code",
   "execution_count": null,
   "metadata": {},
   "outputs": [],
   "source": [
    "# Configure data source\n",
    "path = 'C:/structure/data/2019-12-17-16-54-37-81-Lund_Tribolium_nGFP_TMR/stacks/C0opticsprefused/'\n",
    "filename_1 = path + '001200.raw'\n",
    "filename_2 = path + '001201.raw'\n",
    "width = 512\n",
    "height = 1024\n",
    "depth = 71\n",
    "voxel_size = [3, 0.6934, 0.6934]\n",
    "\n",
    "# load and resample\n",
    "def load_and_resample(filename, width, height, depth, voxel_size):\n",
    "    img_arr = bs.imread_raw(filename, width, height, depth)\n",
    "    buffer = cle.push_zyx(img_arr)\n",
    "    return cle.resample(buffer, factor_x = voxel_size[2], factor_y = voxel_size[1], factor_z = voxel_size[0])\n",
    "\n",
    "input_image = load_and_resample(filename_1, width, height, depth, voxel_size)\n",
    "other_image = load_and_resample(filename_2, width, height, depth, voxel_size)\n",
    "    \n",
    "show(input_image, title=\"original\", use_napari=True)\n",
    "show(other_image, title=\"next timepoint\", use_napari=True)"
   ]
  },
  {
   "cell_type": "code",
   "execution_count": null,
   "metadata": {},
   "outputs": [],
   "source": [
    "# determine local changes\n",
    "difference_image = cle.squared_difference(input_image, other_image)\n",
    "show(difference_image, title=\"difference between timepoints\", use_napari=True)"
   ]
  },
  {
   "cell_type": "markdown",
   "metadata": {},
   "source": [
    "# Segmentation"
   ]
  },
  {
   "cell_type": "code",
   "execution_count": null,
   "metadata": {},
   "outputs": [],
   "source": [
    "cells, spots = bs.segmentation(input_image)\n",
    "show(cells, labels=True)\n",
    "print(\"=======================================\\nnext timepoint:\")\n",
    "other_cells, other_spots = bs.segmentation(other_image)\n",
    "show(other_cells, labels=True)"
   ]
  },
  {
   "cell_type": "markdown",
   "metadata": {},
   "source": [
    "# Quantiative analysis\n",
    "## Neighbors and distances"
   ]
  },
  {
   "cell_type": "code",
   "execution_count": null,
   "metadata": {},
   "outputs": [],
   "source": [
    "# determine neighbors of cells\n",
    "touch_matrix = cle.generate_touch_matrix(cells)\n",
    "\n",
    "# ignore touching the background\n",
    "cle.set_column(touch_matrix,0,0)\n",
    "cle.set_row(touch_matrix,0,0)\n",
    "\n",
    "print(touch_matrix.shape)\n",
    "show(touch_matrix)\n",
    "\n",
    "# determine neighbors of neigbors\n",
    "neighbors_of_neighbors = cle.neighbors_of_neighbors(touch_matrix)\n",
    "show(neighbors_of_neighbors)\n",
    "\n",
    "# determine neighbors of neighbors of neighbors\n",
    "neighbors_of_neighbors_of_neighbors = cle.neighbors_of_neighbors(neighbors_of_neighbors)\n",
    "show(neighbors_of_neighbors_of_neighbors)"
   ]
  },
  {
   "cell_type": "code",
   "execution_count": null,
   "metadata": {},
   "outputs": [],
   "source": [
    "# determine distances of all cells to all cells\n",
    "pointlist = cle.centroids_of_labels(cells)\n",
    "print(\"pointlist\", pointlist.shape)\n",
    "distance_matrix = cle.generate_distance_matrix(pointlist, pointlist)\n",
    "show(distance_matrix)"
   ]
  },
  {
   "cell_type": "markdown",
   "metadata": {},
   "source": [
    "## Estimate displacement"
   ]
  },
  {
   "cell_type": "code",
   "execution_count": null,
   "metadata": {},
   "outputs": [],
   "source": [
    "# determine closest distances over time; a simple displacement estimation\n",
    "other_pointlist = cle.centroids_of_labels(other_cells)\n",
    "print(\"other_pointlist\", other_pointlist.shape)\n",
    "displacement_matrix = cle.generate_distance_matrix(pointlist, other_pointlist)\n",
    "print(\"displacement_matrix\", displacement_matrix.shape)\n",
    "\n",
    "displacement_vector = cle.average_distance_of_n_closest_points(displacement_matrix)\n",
    "print(\"displacement_vector\", displacement_vector.shape)\n",
    "\n",
    "displacement_map = cle.replace_intensities(cells, displacement_vector)\n",
    "show(displacement_map, title=\"distance map\", use_napari=True)\n",
    "\n",
    "displacement_map = cle.replace_intensities(cells, cle.median_of_touching_neighbors(displacement_vector,neighbors_of_neighbors))\n",
    "show(displacement_map, title=\"local median distance map\", use_napari=True)"
   ]
  },
  {
   "cell_type": "markdown",
   "metadata": {},
   "source": [
    "## Measure average neigbor distance"
   ]
  },
  {
   "cell_type": "code",
   "execution_count": null,
   "metadata": {},
   "outputs": [],
   "source": [
    "nearest_neighbor_distance = cle.average_distance_of_n_closest_points(distance_matrix, n=6)\n",
    "\n",
    "nn_distance_map = cle.replace_intensities(cells, nearest_neighbor_distance)\n",
    "show(nn_distance_map, title=\"distance map\", use_napari=True)"
   ]
  },
  {
   "cell_type": "code",
   "execution_count": null,
   "metadata": {},
   "outputs": [],
   "source": [
    "local_nearest_neighbor_distance = cle.median_of_touching_neighbors(nearest_neighbor_distance, neighbors_of_neighbors)\n",
    "\n",
    "nn_distance_map = cle.replace_intensities(cells, local_nearest_neighbor_distance)\n",
    "show(nn_distance_map, title=\"local median distance map\", use_napari=True)"
   ]
  },
  {
   "cell_type": "code",
   "execution_count": null,
   "metadata": {},
   "outputs": [],
   "source": [
    "local_stddev_nearest_neighbor_distance = cle.standard_deviation_of_touching_neighbors(local_nearest_neighbor_distance, neighbors_of_neighbors)\n",
    "\n",
    "nn_distance_map = cle.replace_intensities(cells, local_stddev_nearest_neighbor_distance)\n",
    "show(nn_distance_map, title=\"local stddev average distance map\", use_napari=True)"
   ]
  },
  {
   "cell_type": "markdown",
   "metadata": {},
   "source": [
    "## Measure neighbor count"
   ]
  },
  {
   "cell_type": "code",
   "execution_count": null,
   "metadata": {},
   "outputs": [],
   "source": [
    "touching_neighbor_count = cle.count_touching_neighbors(touch_matrix)\n",
    "cle.set_column(touching_neighbor_count, 0, 0)\n",
    "\n",
    "tnc_map = cle.replace_intensities(cells, touching_neighbor_count)\n",
    "show(tnc_map, title=\"neighbor count\", use_napari=True)"
   ]
  },
  {
   "cell_type": "code",
   "execution_count": null,
   "metadata": {},
   "outputs": [],
   "source": [
    "local_touching_neighbor_count = cle.median_of_touching_neighbors(touching_neighbor_count, touch_matrix)\n",
    "\n",
    "print(local_touching_neighbor_count)\n",
    "tnc_map = cle.replace_intensities(cells, local_touching_neighbor_count)\n",
    "show(tnc_map, title=\"local median neighbor count\", use_napari=True)"
   ]
  },
  {
   "cell_type": "markdown",
   "metadata": {},
   "source": [
    "## Measure size"
   ]
  },
  {
   "cell_type": "code",
   "execution_count": null,
   "metadata": {},
   "outputs": [],
   "source": [
    "print(cle.maximum_of_all_pixels(cells))\n",
    "regionprops = cle.statistics_of_background_and_labelled_pixels(input_image, cells)\n",
    "print(len(regionprops))"
   ]
  },
  {
   "cell_type": "code",
   "execution_count": null,
   "metadata": {},
   "outputs": [],
   "source": [
    "size = cle.push_zyx(np.asarray([[r.area for r in regionprops]]))\n",
    "\n",
    "# ignore background\n",
    "cle.set_column(size, 0, 0)\n",
    "\n",
    "print(size)\n",
    "size_map = cle.replace_intensities(cells, size)\n",
    "show(size_map, title=\"size\", use_napari=True)"
   ]
  },
  {
   "cell_type": "markdown",
   "metadata": {},
   "source": [
    "## Measure mean intensity"
   ]
  },
  {
   "cell_type": "code",
   "execution_count": null,
   "metadata": {
    "scrolled": true
   },
   "outputs": [],
   "source": [
    "intensity = cle.push_zyx(np.asarray([[r.mean_intensity for r in regionprops]]))\n",
    "\n",
    "# ignore background\n",
    "cle.set_column(intensity, 0, 0)\n",
    "\n",
    "print(intensity)\n",
    "intensity_map = cle.replace_intensities(cells, intensity)\n",
    "show(intensity_map, title=\"intensity\", use_napari=True)"
   ]
  },
  {
   "cell_type": "markdown",
   "metadata": {},
   "source": [
    "## Measure standard_deviation intensity"
   ]
  },
  {
   "cell_type": "code",
   "execution_count": null,
   "metadata": {
    "scrolled": true
   },
   "outputs": [],
   "source": [
    "standard_deviation_intensity = cle.push_zyx(np.asarray([[r.standard_deviation_intensity for r in regionprops]]))\n",
    "\n",
    "# ignore background\n",
    "cle.set_column(intensity, 0, 0)\n",
    "\n",
    "print(intensity)\n",
    "intensity_map = cle.replace_intensities(cells, standard_deviation_intensity)\n",
    "show(intensity_map, title=\"intensity\", use_napari=True)"
   ]
  },
  {
   "cell_type": "markdown",
   "metadata": {},
   "source": [
    "## Measure major_axis_length"
   ]
  },
  {
   "cell_type": "code",
   "execution_count": null,
   "metadata": {},
   "outputs": [],
   "source": [
    "major_axis_length = cle.push_zyx(np.asarray([[r.major_axis_length for r in regionprops]]))\n",
    "\n",
    "# ignore background\n",
    "cle.set_column(major_axis_length, 0, 0)\n",
    "\n",
    "print(major_axis_length)\n",
    "major_axis_length_map = cle.replace_intensities(cells, major_axis_length)\n",
    "show(major_axis_length_map, title=\"major_axis\", use_napari=True)"
   ]
  },
  {
   "cell_type": "code",
   "execution_count": null,
   "metadata": {},
   "outputs": [],
   "source": [
    "minor_axis_length = cle.push_zyx(np.asarray([[r.minor_axis_length for r in regionprops]]))\n",
    "\n",
    "# ignore background\n",
    "cle.set_column(minor_axis_length, 0, 0)\n",
    "\n",
    "print(minor_axis_length)\n",
    "minor_axis_length_map = cle.replace_intensities(cells, minor_axis_length)\n",
    "show(minor_axis_length_map, title=\"minor_axis\", use_napari=True)"
   ]
  },
  {
   "cell_type": "markdown",
   "metadata": {},
   "source": [
    "# Plotting"
   ]
  },
  {
   "cell_type": "code",
   "execution_count": null,
   "metadata": {},
   "outputs": [],
   "source": [
    "print(nearest_neighbor_distance.shape)\n",
    "print(touching_neighbor_count.shape)\n",
    "print(local_stddev_nearest_neighbor_distance.shape)\n",
    "print(intensity.shape)\n"
   ]
  },
  {
   "cell_type": "markdown",
   "metadata": {},
   "source": [
    "## Ploting the raw measurements"
   ]
  },
  {
   "cell_type": "code",
   "execution_count": null,
   "metadata": {},
   "outputs": [],
   "source": [
    "import matplotlib.pyplot as plt\n",
    "\n",
    "plt.scatter(nearest_neighbor_distance, touching_neighbor_count)\n",
    "plt.xlabel(\"Nearest neighbor distance\")\n",
    "plt.ylabel(\"Number of touching neighbors\")\n",
    "plt.show()"
   ]
  },
  {
   "cell_type": "markdown",
   "metadata": {},
   "source": [
    "## Plotting the locally averaged measurements"
   ]
  },
  {
   "cell_type": "code",
   "execution_count": null,
   "metadata": {},
   "outputs": [],
   "source": [
    "import matplotlib.pyplot as plt\n",
    "\n",
    "plt.scatter(local_nearest_neighbor_distance, local_touching_neighbor_count)\n",
    "plt.xlabel(\"Nearest neighbor distance\")\n",
    "plt.ylabel(\"Number of touching neighbors\")\n",
    "plt.show()"
   ]
  },
  {
   "cell_type": "markdown",
   "metadata": {},
   "source": [
    "# Clustering"
   ]
  },
  {
   "cell_type": "code",
   "execution_count": null,
   "metadata": {},
   "outputs": [],
   "source": [
    "num_classes = 5\n",
    "\n",
    "raw_data = [\n",
    "    size,\n",
    "    intensity,\n",
    "    standard_deviation_intensity,\n",
    "    major_axis_length,\n",
    "    minor_axis_length,\n",
    "    touching_neighbor_count,\n",
    "    displacement_vector,\n",
    "    cle.average_distance_of_n_closest_points(distance_matrix, n=1),\n",
    "    cle.average_distance_of_n_closest_points(distance_matrix, n=2),\n",
    "    cle.average_distance_of_n_closest_points(distance_matrix, n=3),\n",
    "    cle.average_distance_of_n_closest_points(distance_matrix, n=4),\n",
    "    cle.average_distance_of_n_closest_points(distance_matrix, n=5),\n",
    "    cle.average_distance_of_n_closest_points(distance_matrix, n=6),\n",
    "    cle.average_distance_of_n_closest_points(distance_matrix, n=10),\n",
    "    cle.average_distance_of_n_closest_points(distance_matrix, n=15),\n",
    "    cle.average_distance_of_n_closest_points(distance_matrix, n=20),\n",
    "]\n",
    "\n",
    "neighborhoods = [touch_matrix, neighbors_of_neighbors, neighbors_of_neighbors_of_neighbors]\n",
    "\n",
    "preproc_data = []\n",
    "\n",
    "for element in raw_data:\n",
    "    #print(element[0].size)\n",
    "    preproc_data.append(element[0])\n",
    "    \n",
    "    for neighborhood in neighborhoods:\n",
    "    \n",
    "        median = cle.median_of_touching_neighbors(element, neighborhood)\n",
    "        preproc_data.append(median[0])\n",
    "    \n",
    "        stddev = cle.standard_deviation_of_touching_neighbors(element, neighborhood)\n",
    "        preproc_data.append(stddev[0])\n",
    "    \n",
    "        mean = cle.mean_of_touching_neighbors(element, neighborhood)\n",
    "        preproc_data.append(mean[0])\n",
    "    \n",
    "        minimum = cle.minimum_of_touching_neighbors(element, neighborhood)\n",
    "        preproc_data.append(minimum[0])\n",
    "\n",
    "        maximum = cle.maximum_of_touching_neighbors(element, neighborhood)\n",
    "        preproc_data.append(maximum[0])\n",
    "\n",
    "data = np.asarray(preproc_data).T\n",
    "print(data.shape)"
   ]
  },
  {
   "cell_type": "code",
   "execution_count": null,
   "metadata": {},
   "outputs": [],
   "source": [
    "def show_prediction(cells, prediction, name = \"\", use_napari=True):\n",
    "    predicition_vector = cle.push_zyx(np.asarray([prediction]) + 1)\n",
    "\n",
    "    # set background to 0\n",
    "    cle.set_column(predicition_vector, 0, 0)\n",
    "    print(predicition_vector)\n",
    "\n",
    "    print(prediction)\n",
    "    print(np.max(prediction))\n",
    "\n",
    "    prediction_map = cle.replace_intensities(cells, predicition_vector)\n",
    "    show(prediction_map, title=\"prediction \" + name, use_napari=use_napari)\n",
    "    \n",
    "    mode_prediction = cle.mode_of_touching_neighbors(predicition_vector, neighbors_of_neighbors)\n",
    "    prediction_map = cle.replace_intensities(cells, mode_prediction)\n",
    "    show(prediction_map, title=\"prediction\" + name, use_napari=use_napari)"
   ]
  },
  {
   "cell_type": "markdown",
   "metadata": {},
   "source": [
    "## Gaussian mixture model"
   ]
  },
  {
   "cell_type": "code",
   "execution_count": null,
   "metadata": {},
   "outputs": [],
   "source": [
    "from sklearn import mixture\n",
    "\n",
    "# fit a Gaussian Mixture Model with two components\n",
    "clf = mixture.GaussianMixture(n_components=num_classes, covariance_type='full')\n",
    "clf.fit(data)\n",
    "# print(clf.means_, clf.covariances_)"
   ]
  },
  {
   "cell_type": "code",
   "execution_count": null,
   "metadata": {},
   "outputs": [],
   "source": [
    "# inspired by https://scikit-learn.org/stable/auto_examples/mixture/plot_gmm.html#sphx-glr-auto-examples-mixture-plot-gmm-py\n",
    "color_iter = ['navy', 'red', 'darkgreen', 'gold', 'darkorange']\n",
    "\n",
    "gmm_prediction = clf.predict(data)\n",
    "\n",
    "for i in range(clf.n_components):\n",
    "    #splot = plt.subplot(2, 1, 1 + index)\n",
    "    color = color_iter[i]\n",
    "    plt.scatter(data[gmm_prediction == i, 0], data[gmm_prediction == i, 1], .8, color=color)\n",
    "\n",
    "plt.xlabel(\"Nearest neighbor distance\")\n",
    "plt.ylabel(\"Number of touching neighbors\")\n",
    "plt.show()\n",
    "\n",
    "show_prediction(cells, gmm_prediction, \"Gaussian Mixture\")"
   ]
  },
  {
   "cell_type": "markdown",
   "metadata": {},
   "source": [
    "## K-means clustering"
   ]
  },
  {
   "cell_type": "code",
   "execution_count": null,
   "metadata": {},
   "outputs": [],
   "source": [
    "# inspired by https://scikit-learn.org/stable/modules/generated/sklearn.cluster.KMeans.html\n",
    "\n",
    "from sklearn.cluster import KMeans\n",
    "import numpy as np\n",
    "\n",
    "kmeans = KMeans(n_clusters=num_classes, random_state=0).fit(data)\n",
    "\n",
    "kmeans_prediction = kmeans.predict(data)\n",
    "\n",
    "print(kmeans_prediction)\n",
    "\n",
    "show_prediction(cells, kmeans_prediction, \"K-means clustering\")"
   ]
  },
  {
   "cell_type": "markdown",
   "metadata": {},
   "source": [
    "## MeanShift\n",
    "https://scikit-learn.org/stable/auto_examples/cluster/plot_mean_shift.html#sphx-glr-auto-examples-cluster-plot-mean-shift-py"
   ]
  },
  {
   "cell_type": "code",
   "execution_count": null,
   "metadata": {},
   "outputs": [],
   "source": [
    "from sklearn.cluster import MeanShift, estimate_bandwidth\n",
    "\n",
    "bandwidth = estimate_bandwidth(data, quantile=0.2, n_samples=500)\n",
    "\n",
    "ms = MeanShift(bandwidth=bandwidth, bin_seeding=True)\n",
    "ms.fit(data)\n",
    "ms_prediction = ms.labels_\n",
    "\n",
    "show_prediction(cells, ms_prediction, \"MeanShift\")"
   ]
  },
  {
   "cell_type": "markdown",
   "metadata": {},
   "source": [
    "## AffinityPropagation\n",
    "https://scikit-learn.org/stable/auto_examples/cluster/plot_affinity_propagation.html#sphx-glr-auto-examples-cluster-plot-affinity-propagation-py"
   ]
  },
  {
   "cell_type": "code",
   "execution_count": null,
   "metadata": {},
   "outputs": [],
   "source": [
    "from sklearn.cluster import AffinityPropagation\n",
    "\n",
    "ap = AffinityPropagation().fit(data)\n",
    "\n",
    "ap_prediction = ap.labels_\n",
    "\n",
    "show_prediction(cells, ap_prediction, \"AffinityPropagation\")"
   ]
  },
  {
   "cell_type": "markdown",
   "metadata": {},
   "source": [
    "## SpectralClustering"
   ]
  },
  {
   "cell_type": "code",
   "execution_count": null,
   "metadata": {},
   "outputs": [],
   "source": [
    "from sklearn.cluster import SpectralClustering\n",
    "sc = SpectralClustering(num_classes, affinity='precomputed', n_init=100,\n",
    "                         assign_labels='discretize')\n",
    "sc_prediction = sc.fit_predict(cle.pull_zyx(touch_matrix))\n",
    "\n",
    "show_prediction(cells, sc_prediction, \"SpectralClustering\")"
   ]
  },
  {
   "cell_type": "code",
   "execution_count": null,
   "metadata": {},
   "outputs": [],
   "source": []
  },
  {
   "cell_type": "code",
   "execution_count": null,
   "metadata": {},
   "outputs": [],
   "source": []
  }
 ],
 "metadata": {
  "kernelspec": {
   "display_name": "Python 3",
   "language": "python",
   "name": "python3"
  },
  "language_info": {
   "codemirror_mode": {
    "name": "ipython",
    "version": 3
   },
   "file_extension": ".py",
   "mimetype": "text/x-python",
   "name": "python",
   "nbconvert_exporter": "python",
   "pygments_lexer": "ipython3",
   "version": "3.8.3"
  }
 },
 "nbformat": 4,
 "nbformat_minor": 4
}
