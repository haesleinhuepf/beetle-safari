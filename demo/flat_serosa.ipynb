{
 "cells": [
  {
   "cell_type": "code",
   "execution_count": 1,
   "metadata": {},
   "outputs": [],
   "source": [
    "# To make this script run in cpython, install pyclesperanto_prototype:\n",
"# pip install pyclesperanto_prototype\n",
"# Read more: \n",
"# https://clesperanto.net\n",
"# \n",
"# To make this script run in Fiji, please activate the clij, \n",
"# clij2 and clijx-assistant update sites in your Fiji. \n",
"# Read more: \n",
"# https://clij.github.io/assistant\n",
"# \n",
"# Generator (P) version: 0.1.0\n",
"# \n",
"import pyclesperanto_prototype as cle\n",
"\n",
""
   ]
  },  {
   "cell_type": "code",
   "execution_count": 1,
   "metadata": {},
   "outputs": [],
   "source": [
    "image0 = cle.imread('data/Lund_001200_head_lobe_crop.tif')\n",
""
   ]
  },  {
   "cell_type": "code",
   "execution_count": 1,
   "metadata": {},
   "outputs": [],
   "source": [
    "# show result\n",
"cle.imshow(image0, 'image', False, 32912.0, 33868.0)\n",
"\n",
""
   ]
  },  {
   "cell_type": "markdown",
   "metadata": {},
   "source": [
    "Result of top_hat_box"
   ]
  },  {
   "cell_type": "code",
   "execution_count": 1,
   "metadata": {},
   "outputs": [],
   "source": [
    "# Layer Result of top_hat_box\n",
"image1 = cle.create_like(image0)\n",
"cle.top_hat_box(image0, image1, 5.0, 5.0, 5.0)\n",
""
   ]
  },  {
   "cell_type": "markdown",
   "metadata": {},
   "source": [
    "Result of gaussian_blur"
   ]
  },  {
   "cell_type": "code",
   "execution_count": 1,
   "metadata": {},
   "outputs": [],
   "source": [
    "# Layer Result of gaussian_blur\n",
"image2 = cle.create_like(image1)\n",
"cle.gaussian_blur(image1, image2, 0.0, 0.0, 0.0)\n",
""
   ]
  },  {
   "cell_type": "markdown",
   "metadata": {},
   "source": [
    "Result of detect_maxima_box"
   ]
  },  {
   "cell_type": "code",
   "execution_count": 1,
   "metadata": {},
   "outputs": [],
   "source": [
    "# Layer Result of detect_maxima_box\n",
"image3 = cle.create_like(image2)\n",
"cle.detect_maxima_box(image2, image3, 1, 1, 1)\n",
""
   ]
  },  {
   "cell_type": "markdown",
   "metadata": {},
   "source": [
    "Result of binary_and"
   ]
  },  {
   "cell_type": "code",
   "execution_count": 1,
   "metadata": {},
   "outputs": [],
   "source": [
    "# Layer Result of binary_and\n",
"image5 = cle.create_like(image4)\n",
"cle.binary_and(image4, image3, image5)\n",
""
   ]
  },  {
   "cell_type": "code",
   "execution_count": 1,
   "metadata": {},
   "outputs": [],
   "source": [
    "# show result\n",
"cle.imshow(image5, 'Result of binary_and', False, 0, 1.0)\n",
"\n",
""
   ]
  },  {
   "cell_type": "markdown",
   "metadata": {},
   "source": [
    "Result of connected_components_labeling_box"
   ]
  },  {
   "cell_type": "code",
   "execution_count": 1,
   "metadata": {},
   "outputs": [],
   "source": [
    "# Layer Result of connected_components_labeling_box\n",
"image6 = cle.create_like(image5)\n",
"cle.connected_components_labeling_box(image5, image6)\n",
""
   ]
  },  {
   "cell_type": "markdown",
   "metadata": {},
   "source": [
    "Result of extend_labels_with_maximum_radius"
   ]
  },  {
   "cell_type": "code",
   "execution_count": 1,
   "metadata": {},
   "outputs": [],
   "source": [
    "# Layer Result of extend_labels_with_maximum_radius\n",
"image7 = cle.create_like(image6)\n",
"cle.extend_labels_with_maximum_radius(image6, image7, 14.0)\n",
""
   ]
  },  {
   "cell_type": "markdown",
   "metadata": {},
   "source": [
    "Result of draw_mesh_between_touching_labels"
   ]
  },  {
   "cell_type": "code",
   "execution_count": 1,
   "metadata": {},
   "outputs": [],
   "source": [
    "# Layer Result of draw_mesh_between_touching_labels\n",
"image8 = cle.create_like(image7)\n",
"cle.draw_mesh_between_touching_labels(image7, image8)\n",
""
   ]
  },  {
   "cell_type": "markdown",
   "metadata": {},
   "source": [
    "Result of multiply_images"
   ]
  },  {
   "cell_type": "code",
   "execution_count": 1,
   "metadata": {},
   "outputs": [],
   "source": [
    "# Layer Result of multiply_images\n",
"image10 = cle.create_like(image8)\n",
"cle.multiply_images(image8, image7, image10)\n",
""
   ]
  },  {
   "cell_type": "markdown",
   "metadata": {},
   "source": [
    "Result of extend_labels_with_maximum_radius [1]"
   ]
  },  {
   "cell_type": "code",
   "execution_count": 1,
   "metadata": {},
   "outputs": [],
   "source": [
    "# Layer Result of extend_labels_with_maximum_radius [1]\n",
"image11 = cle.create_like(image10)\n",
"cle.extend_labels_with_maximum_radius(image10, image11, 4.0)\n",
""
   ]
  },  {
   "cell_type": "code",
   "execution_count": 1,
   "metadata": {},
   "outputs": [],
   "source": [
    "# show result\n",
"cle.imshow(image11, 'Result of extend_labels_with_maximum_radius [1]', True)\n",
"\n",
""
   ]
  },  {
   "cell_type": "markdown",
   "metadata": {},
   "source": [
    "Result of touching_neighbor_count_map"
   ]
  },  {
   "cell_type": "code",
   "execution_count": 1,
   "metadata": {},
   "outputs": [],
   "source": [
    "# Layer Result of touching_neighbor_count_map\n",
"image9 = cle.create_like(image7)\n",
"cle.touching_neighbor_count_map(image7, image9)\n",
""
   ]
  },  {
   "cell_type": "markdown",
   "metadata": {},
   "source": [
    "Result of multiply_images"
   ]
  },  {
   "cell_type": "code",
   "execution_count": 1,
   "metadata": {},
   "outputs": [],
   "source": [
    "# Layer Result of multiply_images\n",
"image10 = cle.create_like(image8)\n",
"cle.multiply_images(image8, image7, image10)\n",
""
   ]
  },  {
   "cell_type": "markdown",
   "metadata": {},
   "source": [
    "Result of extend_labels_with_maximum_radius [1]"
   ]
  },  {
   "cell_type": "code",
   "execution_count": 1,
   "metadata": {},
   "outputs": [],
   "source": [
    "# Layer Result of extend_labels_with_maximum_radius [1]\n",
"image11 = cle.create_like(image10)\n",
"cle.extend_labels_with_maximum_radius(image10, image11, 4.0)\n",
""
   ]
  },  {
   "cell_type": "code",
   "execution_count": 1,
   "metadata": {},
   "outputs": [],
   "source": [
    "# show result\n",
"cle.imshow(image11, 'Result of extend_labels_with_maximum_radius [1]', True)\n",
"\n",
""
   ]
  },  {
   "cell_type": "markdown",
   "metadata": {},
   "source": [
    "Result of threshold_otsu"
   ]
  },  {
   "cell_type": "code",
   "execution_count": 1,
   "metadata": {},
   "outputs": [],
   "source": [
    "# Layer Result of threshold_otsu\n",
"image4 = cle.create_like(image2)\n",
"cle.threshold_otsu(image2, image4)\n",
""
   ]
  },  {
   "cell_type": "markdown",
   "metadata": {},
   "source": [
    "Result of binary_and"
   ]
  },  {
   "cell_type": "code",
   "execution_count": 1,
   "metadata": {},
   "outputs": [],
   "source": [
    "# Layer Result of binary_and\n",
"image5 = cle.create_like(image4)\n",
"cle.binary_and(image4, image3, image5)\n",
""
   ]
  },  {
   "cell_type": "code",
   "execution_count": 1,
   "metadata": {},
   "outputs": [],
   "source": [
    "# show result\n",
"cle.imshow(image5, 'Result of binary_and', False, 0, 1.0)\n",
"\n",
""
   ]
  },  {
   "cell_type": "markdown",
   "metadata": {},
   "source": [
    "Result of connected_components_labeling_box"
   ]
  },  {
   "cell_type": "code",
   "execution_count": 1,
   "metadata": {},
   "outputs": [],
   "source": [
    "# Layer Result of connected_components_labeling_box\n",
"image6 = cle.create_like(image5)\n",
"cle.connected_components_labeling_box(image5, image6)\n",
""
   ]
  },  {
   "cell_type": "markdown",
   "metadata": {},
   "source": [
    "Result of extend_labels_with_maximum_radius"
   ]
  },  {
   "cell_type": "code",
   "execution_count": 1,
   "metadata": {},
   "outputs": [],
   "source": [
    "# Layer Result of extend_labels_with_maximum_radius\n",
"image7 = cle.create_like(image6)\n",
"cle.extend_labels_with_maximum_radius(image6, image7, 14.0)\n",
""
   ]
  },  {
   "cell_type": "markdown",
   "metadata": {},
   "source": [
    "Result of draw_mesh_between_touching_labels"
   ]
  },  {
   "cell_type": "code",
   "execution_count": 1,
   "metadata": {},
   "outputs": [],
   "source": [
    "# Layer Result of draw_mesh_between_touching_labels\n",
"image8 = cle.create_like(image7)\n",
"cle.draw_mesh_between_touching_labels(image7, image8)\n",
""
   ]
  },  {
   "cell_type": "markdown",
   "metadata": {},
   "source": [
    "Result of multiply_images"
   ]
  },  {
   "cell_type": "code",
   "execution_count": 1,
   "metadata": {},
   "outputs": [],
   "source": [
    "# Layer Result of multiply_images\n",
"image10 = cle.create_like(image8)\n",
"cle.multiply_images(image8, image7, image10)\n",
""
   ]
  },  {
   "cell_type": "markdown",
   "metadata": {},
   "source": [
    "Result of extend_labels_with_maximum_radius [1]"
   ]
  },  {
   "cell_type": "code",
   "execution_count": 1,
   "metadata": {},
   "outputs": [],
   "source": [
    "# Layer Result of extend_labels_with_maximum_radius [1]\n",
"image11 = cle.create_like(image10)\n",
"cle.extend_labels_with_maximum_radius(image10, image11, 4.0)\n",
""
   ]
  },  {
   "cell_type": "code",
   "execution_count": 1,
   "metadata": {},
   "outputs": [],
   "source": [
    "# show result\n",
"cle.imshow(image11, 'Result of extend_labels_with_maximum_radius [1]', True)\n",
"\n",
""
   ]
  },  {
   "cell_type": "markdown",
   "metadata": {},
   "source": [
    "Result of touching_neighbor_count_map"
   ]
  },  {
   "cell_type": "code",
   "execution_count": 1,
   "metadata": {},
   "outputs": [],
   "source": [
    "# Layer Result of touching_neighbor_count_map\n",
"image9 = cle.create_like(image7)\n",
"cle.touching_neighbor_count_map(image7, image9)\n",
""
   ]
  },  {
   "cell_type": "markdown",
   "metadata": {},
   "source": [
    "Result of multiply_images"
   ]
  },  {
   "cell_type": "code",
   "execution_count": 1,
   "metadata": {},
   "outputs": [],
   "source": [
    "# Layer Result of multiply_images\n",
"image10 = cle.create_like(image8)\n",
"cle.multiply_images(image8, image7, image10)\n",
""
   ]
  },  {
   "cell_type": "markdown",
   "metadata": {},
   "source": [
    "Result of extend_labels_with_maximum_radius [1]"
   ]
  },  {
   "cell_type": "code",
   "execution_count": 1,
   "metadata": {},
   "outputs": [],
   "source": [
    "# Layer Result of extend_labels_with_maximum_radius [1]\n",
"image11 = cle.create_like(image10)\n",
"cle.extend_labels_with_maximum_radius(image10, image11, 4.0)\n",
""
   ]
  },  {
   "cell_type": "code",
   "execution_count": 1,
   "metadata": {},
   "outputs": [],
   "source": [
    "# show result\n",
"cle.imshow(image11, 'Result of extend_labels_with_maximum_radius [1]', True)\n",
"\n",
""
   ]
  }],
 "metadata": {
  "kernelspec": {
   "display_name": "Python 3",
   "language": "python",
   "name": "python3"
  },
  "language_info": {
   "codemirror_mode": {
    "name": "ipython",
    "version": 3
   },
   "file_extension": ".py",
   "mimetype": "text/x-python",
   "name": "python",
   "nbconvert_exporter": "python",
   "pygments_lexer": "ipython3",
   "version": "3.7.6"
  }
 },
 "nbformat": 4,
 "nbformat_minor": 4
}
