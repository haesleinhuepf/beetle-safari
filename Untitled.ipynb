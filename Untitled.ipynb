{
 "cells": [
  {
   "cell_type": "code",
   "execution_count": 1,
   "metadata": {},
   "outputs": [
    {
     "name": "stdout",
     "output_type": "stream",
     "text": [
      "[[1 2 3 4]\n",
      " [5 6 7 8]]\n"
     ]
    }
   ],
   "source": [
    "import numpy as np\n",
    "table = np.asarray([\n",
    "    [1, 2, 3, 4],\n",
    "    [5, 6, 7, 8]\n",
    "])\n",
    "print(table)"
   ]
  },
  {
   "cell_type": "code",
   "execution_count": 2,
   "metadata": {},
   "outputs": [
    {
     "name": "stdout",
     "output_type": "stream",
     "text": [
      "[[2 3 4]\n",
      " [6 7 8]]\n"
     ]
    }
   ],
   "source": [
    "print(table[:, 1:])"
   ]
  },
  {
   "cell_type": "code",
   "execution_count": 6,
   "metadata": {
    "scrolled": true
   },
   "outputs": [
    {
     "name": "stdout",
     "output_type": "stream",
     "text": [
      "[[  0.55027217  65.29123    130.02133    193.68503     35.833595\n",
      "   96.11292    163.32104    224.1502       0.          67.29758\n",
      "  127.48044    190.72209     32.537006    97.79397    159.01587\n",
      "  221.2257       6.033243    66.9674     129.78793    190.7775\n",
      "   32.081978    93.03559    159.02234    227.49153   ]\n",
      " [  0.           2.4412408    1.2882771    1.2590129   51.93765\n",
      "   51.520344    54.210457    53.123787    90.1186      91.886955\n",
      "  103.02997     96.22813    142.00883    134.86636    145.52116\n",
      "  138.88419    192.41177    188.58255    190.1763     190.65285\n",
      "  236.21983    241.13336    237.54442    237.96028   ]\n",
      " [  1.           2.           3.           4.           5.\n",
      "    6.           7.           8.           9.          10.\n",
      "   11.          12.          13.          14.          15.\n",
      "   16.          17.          18.          19.          20.\n",
      "   21.          22.          23.          24.        ]]\n"
     ]
    },
    {
     "data": {
      "image/png": "[encoded data removed]",
      "text/plain": [
       "<Figure size 432x288 with 1 Axes>"
      ]
     },
     "metadata": {
      "needs_background": "light"
     },
     "output_type": "display_data"
    },
    {
     "name": "stdout",
     "output_type": "stream",
     "text": [
      "[[ 1.  1.  1. ...  4.  4.  4.]\n",
      " [ 1.  1.  1. ...  4.  4.  4.]\n",
      " [ 1.  1.  1. ...  4.  4.  4.]\n",
      " ...\n",
      " [21. 21. 21. ... 24. 24. 24.]\n",
      " [21. 21. 21. ... 24. 24. 24.]\n",
      " [21. 21. 21. ... 24. 24. 24.]]\n",
      "[[ 1  1  1 ...  4  4  4]\n",
      " [ 1  1  1 ...  4  4  4]\n",
      " [ 1  1  1 ...  4  4  4]\n",
      " ...\n",
      " [21 21 21 ... 24 24 24]\n",
      " [21 21 21 ... 24 24 24]\n",
      " [21 21 21 ... 24 24 24]]\n",
      "[1, 2, 3, 4, 5, 6, 7, 8, 9, 10, 11, 12, 13, 14, 15, 16, 17, 18, 19, 20, 21, 22, 23, 24]\n"
     ]
    },
    {
     "data": {
      "image/png": "[encoded data removed]",
      "text/plain": [
       "<Figure size 432x288 with 1 Axes>"
      ]
     },
     "metadata": {
      "needs_background": "light"
     },
     "output_type": "display_data"
    }
   ],
   "source": [
    "import pyclesperanto_prototype as cle\n",
    "\n",
    "image = cle.artificial_tissue_2d(delta_x=64, delta_y=48)\n",
    "\n",
    "props = cle.statistics_of_labelled_pixels(None, image, measure_shape=False)\n",
    "print([p.max_intensity for p in props])\n",
    "\n",
    "cle.imshow(image)"
   ]
  },
  {
   "cell_type": "code",
   "execution_count": 4,
   "metadata": {},
   "outputs": [
    {
     "data": {
      "image/png": "[encoded data removed]",
      "text/plain": [
       "<Figure size 432x288 with 1 Axes>"
      ]
     },
     "metadata": {
      "needs_background": "light"
     },
     "output_type": "display_data"
    }
   ],
   "source": [
    "labels = cle.create_like(image)\n",
    "cle.close_index_gaps_in_label_map(image, labels)\n",
    "\n",
    "cle.imshow(labels)"
   ]
  },
  {
   "cell_type": "code",
   "execution_count": 5,
   "metadata": {
    "scrolled": true
   },
   "outputs": [
    {
     "name": "stdout",
     "output_type": "stream",
     "text": [
      "[[ 2.  3.  3.  3.  9.  6.  4.  4.  4.  4.  4.]\n",
      " [ 2.  3.  9.  9.  9.  6.  6.  6.  4.  4.  4.]\n",
      " [ 5.  5.  9.  9.  9.  6.  6.  6.  6.  6.  4.]\n",
      " [ 7.  5.  5.  9.  9.  6.  6.  6.  6.  6.  6.]\n",
      " [ 7.  7.  7.  5.  9.  6.  6.  6.  6.  6.  8.]\n",
      " [ 7.  7.  7.  7. 10. 10.  6.  6.  8.  8.  8.]\n",
      " [11. 11.  7. 10. 10. 10. 10.  8.  8.  8.  8.]\n",
      " [11. 11. 10. 10. 10. 10. 10.  8.  8.  8.  8.]\n",
      " [11. 11. 10. 10. 10. 10. 10.  8.  8.  8.  8.]]\n",
      "[[ 2  3  3  3  9  6  4  4  4  4  4]\n",
      " [ 2  3  9  9  9  6  6  6  4  4  4]\n",
      " [ 5  5  9  9  9  6  6  6  6  6  4]\n",
      " [ 7  5  5  9  9  6  6  6  6  6  6]\n",
      " [ 7  7  7  5  9  6  6  6  6  6  8]\n",
      " [ 7  7  7  7 10 10  6  6  8  8  8]\n",
      " [11 11  7 10 10 10 10  8  8  8  8]\n",
      " [11 11 10 10 10 10 10  8  8  8  8]\n",
      " [11 11 10 10 10 10 10  8  8  8  8]]\n"
     ]
    },
    {
     "data": {
      "image/png": "[encoded data removed]",
      "text/plain": [
       "<Figure size 432x288 with 1 Axes>"
      ]
     },
     "metadata": {
      "needs_background": "light"
     },
     "output_type": "display_data"
    }
   ],
   "source": [
    "distance_map = cle.euclidean_distance_from_label_centroid_map(labels)\n",
    "\n",
    "cle.imshow(distance_map)"
   ]
  },
  {
   "cell_type": "code",
   "execution_count": null,
   "metadata": {},
   "outputs": [],
   "source": []
  }
 ],
 "metadata": {
  "kernelspec": {
   "display_name": "Python 3",
   "language": "python",
   "name": "python3"
  },
  "language_info": {
   "codemirror_mode": {
    "name": "ipython",
    "version": 3
   },
   "file_extension": ".py",
   "mimetype": "text/x-python",
   "name": "python",
   "nbconvert_exporter": "python",
   "pygments_lexer": "ipython3",
   "version": "3.8.3"
  }
 },
 "nbformat": 4,
 "nbformat_minor": 4
}
